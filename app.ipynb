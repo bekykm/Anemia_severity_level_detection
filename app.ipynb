{
 "cells": [
  {
   "cell_type": "code",
   "execution_count": null,
   "id": "2a1026d7",
   "metadata": {},
   "outputs": [
    {
     "name": "stdout",
     "output_type": "stream",
     "text": [
      " * Serving Flask app \"__main__\" (lazy loading)\n",
      " * Environment: production\n",
      "\u001b[31m   WARNING: This is a development server. Do not use it in a production deployment.\u001b[0m\n",
      "\u001b[2m   Use a production WSGI server instead.\u001b[0m\n",
      " * Debug mode: off\n"
     ]
    },
    {
     "name": "stderr",
     "output_type": "stream",
     "text": [
      " * Running on http://127.0.0.1:5000/ (Press CTRL+C to quit)\n",
      "127.0.0.1 - - [30/Jul/2022 06:39:11] \"\u001b[37mGET / HTTP/1.1\u001b[0m\" 200 -\n",
      "/home/becky/.local/lib/python3.8/site-packages/sklearn/base.py:450: UserWarning: X does not have valid feature names, but StandardScaler was fitted with feature names\n",
      "  warnings.warn(\n",
      "/home/becky/.local/lib/python3.8/site-packages/sklearn/base.py:450: UserWarning: X does not have valid feature names, but DecisionTreeClassifier was fitted with feature names\n",
      "  warnings.warn(\n",
      "127.0.0.1 - - [30/Jul/2022 06:39:16] \"\u001b[37mPOST /predict HTTP/1.1\u001b[0m\" 200 -\n"
     ]
    },
    {
     "name": "stdout",
     "output_type": "stream",
     "text": [
      "final features [[ 1.65767025  0.71380199  0.35834146  4.0818107  -0.52993195 -0.86379899\n",
      "   2.83209485  0.66998939  2.19435313  1.15263554 -0.25983728 -0.95897114\n",
      "   0.62402882  2.6482673  -0.94633     3.18200846 -2.06062245  6.79076268\n",
      "   7.8786154   0.19128189  2.86298675 -0.1767767   0.20485709 -0.8348742 ]]\n",
      "prediction: [3]\n",
      "3\n"
     ]
    },
    {
     "name": "stderr",
     "output_type": "stream",
     "text": [
      "/home/becky/.local/lib/python3.8/site-packages/sklearn/base.py:450: UserWarning: X does not have valid feature names, but StandardScaler was fitted with feature names\n",
      "  warnings.warn(\n",
      "/home/becky/.local/lib/python3.8/site-packages/sklearn/base.py:450: UserWarning: X does not have valid feature names, but DecisionTreeClassifier was fitted with feature names\n",
      "  warnings.warn(\n",
      "127.0.0.1 - - [30/Jul/2022 06:39:49] \"\u001b[37mPOST /predict HTTP/1.1\u001b[0m\" 200 -\n"
     ]
    },
    {
     "name": "stdout",
     "output_type": "stream",
     "text": [
      "final features [[ 0.15956082 -0.40228065  0.35834146  2.58619854 -0.52993195  1.15767674\n",
      "  -0.35309552 -1.08075802  2.19435313  1.15263554 -1.59592366 -0.95897114\n",
      "   0.62402882 -0.37760539 -2.94937383 -0.31426692  2.14614554  6.79076268\n",
      "   7.8786154  -1.91429965 -0.72167963 -0.1767767   0.20485709 -0.8348742 ]]\n",
      "prediction: [4]\n",
      "4\n"
     ]
    },
    {
     "name": "stderr",
     "output_type": "stream",
     "text": [
      "/home/becky/.local/lib/python3.8/site-packages/sklearn/base.py:450: UserWarning: X does not have valid feature names, but StandardScaler was fitted with feature names\n",
      "  warnings.warn(\n",
      "/home/becky/.local/lib/python3.8/site-packages/sklearn/base.py:450: UserWarning: X does not have valid feature names, but DecisionTreeClassifier was fitted with feature names\n",
      "  warnings.warn(\n",
      "127.0.0.1 - - [30/Jul/2022 06:40:08] \"\u001b[37mPOST /predict HTTP/1.1\u001b[0m\" 200 -\n"
     ]
    },
    {
     "name": "stdout",
     "output_type": "stream",
     "text": [
      "final features [[ 0.15956082 -0.40228065  0.35834146  2.58619854 -0.52993195  1.15767674\n",
      "  -0.35309552 -1.08075802  2.19435313 -0.41815424 -1.59592366 -0.95897114\n",
      "  -1.60249008 -0.37760539 -2.94937383 -0.31426692  2.14614554  6.79076268\n",
      "   7.8786154  -1.91429965 -0.72167963 -0.1767767   0.20485709 -0.8348742 ]]\n",
      "prediction: [4]\n",
      "4\n"
     ]
    },
    {
     "name": "stderr",
     "output_type": "stream",
     "text": [
      "/home/becky/.local/lib/python3.8/site-packages/sklearn/base.py:450: UserWarning: X does not have valid feature names, but StandardScaler was fitted with feature names\n",
      "  warnings.warn(\n",
      "/home/becky/.local/lib/python3.8/site-packages/sklearn/base.py:450: UserWarning: X does not have valid feature names, but DecisionTreeClassifier was fitted with feature names\n",
      "  warnings.warn(\n",
      "127.0.0.1 - - [30/Jul/2022 06:40:19] \"\u001b[37mPOST /predict HTTP/1.1\u001b[0m\" 200 -\n"
     ]
    },
    {
     "name": "stdout",
     "output_type": "stream",
     "text": [
      "final features [[ 1.65767025  0.71380199  0.35834146  2.58619854 -0.52993195  1.15767674\n",
      "  -0.35309552 -1.08075802  2.19435313 -0.41815424 -1.59592366 -0.95897114\n",
      "  -1.60249008 -0.37760539 -2.94937383 -0.31426692  2.14614554  6.79076268\n",
      "   7.8786154  -1.91429965 -0.72167963 -0.1767767   0.20485709 -0.8348742 ]]\n",
      "prediction: [4]\n",
      "4\n"
     ]
    },
    {
     "name": "stderr",
     "output_type": "stream",
     "text": [
      "/home/becky/.local/lib/python3.8/site-packages/sklearn/base.py:450: UserWarning: X does not have valid feature names, but StandardScaler was fitted with feature names\n",
      "  warnings.warn(\n",
      "/home/becky/.local/lib/python3.8/site-packages/sklearn/base.py:450: UserWarning: X does not have valid feature names, but DecisionTreeClassifier was fitted with feature names\n",
      "  warnings.warn(\n",
      "127.0.0.1 - - [30/Jul/2022 06:40:28] \"\u001b[37mPOST /predict HTTP/1.1\u001b[0m\" 200 -\n"
     ]
    },
    {
     "name": "stdout",
     "output_type": "stream",
     "text": [
      "final features [[ 1.65767025  0.71380199  0.35834146  2.58619854 -0.52993195 -0.86379899\n",
      "  -0.35309552 -1.08075802  2.19435313 -0.41815424 -1.59592366 -0.95897114\n",
      "  -1.60249008 -0.37760539 -2.94937383 -0.31426692  2.14614554  6.79076268\n",
      "   7.8786154  -1.91429965 -0.72167963 -0.1767767   0.20485709  1.43115083]]\n",
      "prediction: [4]\n",
      "4\n"
     ]
    },
    {
     "name": "stderr",
     "output_type": "stream",
     "text": [
      "/home/becky/.local/lib/python3.8/site-packages/sklearn/base.py:450: UserWarning: X does not have valid feature names, but StandardScaler was fitted with feature names\n",
      "  warnings.warn(\n",
      "/home/becky/.local/lib/python3.8/site-packages/sklearn/base.py:450: UserWarning: X does not have valid feature names, but DecisionTreeClassifier was fitted with feature names\n",
      "  warnings.warn(\n",
      "127.0.0.1 - - [30/Jul/2022 06:40:36] \"\u001b[37mPOST /predict HTTP/1.1\u001b[0m\" 200 -\n"
     ]
    },
    {
     "name": "stdout",
     "output_type": "stream",
     "text": [
      "final features [[ 1.65767025  0.71380199 -2.79063442  2.58619854 -0.52993195 -0.86379899\n",
      "  -0.35309552  4.17148421  2.19435313 -0.41815424 -1.59592366 -0.95897114\n",
      "  -1.60249008 -0.37760539 -2.94937383 -0.31426692  2.14614554  6.79076268\n",
      "   7.8786154  -1.91429965 -0.72167963 -0.1767767   0.20485709  1.43115083]]\n",
      "prediction: [1]\n",
      "1\n"
     ]
    }
   ],
   "source": [
    "import numpy as np\n",
    "from flask import Flask, request, jsonify, render_template\n",
    "import pickle\n",
    "from sklearn.preprocessing import StandardScaler\n",
    "\n",
    "app = Flask(__name__)\n",
    "# when its using google coolab it should be filename=r\"/content/model.pkl\" \n",
    "model = pickle.load(open(\"model.pkl\", 'rb'))\n",
    "scaler = pickle.load(open('scaler.pkl', 'rb'))\n",
    "\n",
    "\n",
    "@app.route('/')\n",
    "def home():\n",
    "    return render_template('index5.html')\n",
    "\n",
    "@app.route('/predict',methods=['POST'])\n",
    "def predict():\n",
    "\n",
    "    features = [float(x) for x in request.form.values()]\n",
    "    final_features = [np.array(features)]\n",
    "    final_features = scaler.transform(final_features)    \n",
    "    prediction = model.predict(final_features)\n",
    "    print(\"final features\",final_features)\n",
    "    print(\"prediction:\",prediction)\n",
    "    output = round(prediction[0], 2)\n",
    "    print(output)\n",
    "\n",
    "    if output == 1:\n",
    "        return render_template('index5.html', prediction_text='This pregnant women is not likely to have ANEMIA (NON-ANEMIC)')\n",
    "    elif output == 2:\n",
    "         return render_template('index5.html', prediction_text='This pregnant women is likely to have MODERATE-ANEMIA')\n",
    "        \n",
    "    elif output == 3:\n",
    "        return render_template('index5.html', prediction_text='This pregnant women is likely to have MILD-ANEMIA')\n",
    "    elif output == 4:\n",
    "         return render_template('index5.html', prediction_text='This pregnant women is likely to have SEVERE-ANEMIA')\n",
    "    \n",
    "    else:\n",
    "         return render_template('index5.html', prediction_text='Can not recogonize!')\n",
    "        \n",
    "\n",
    "@app.route('/predict_api',methods=['POST'])\n",
    "def results():\n",
    "\n",
    "    data = request.get_json(force=True)\n",
    "    prediction = model.predict([np.array(list(data.values()))])\n",
    "\n",
    "    output = prediction[0]\n",
    "    return jsonify(output)\n",
    "\n",
    "if __name__ == \"__main__\":\n",
    "    app.run(debug=False)"
   ]
  },
  {
   "cell_type": "code",
   "execution_count": 3,
   "id": "44c34ca4",
   "metadata": {},
   "outputs": [
    {
     "name": "stdout",
     "output_type": "stream",
     "text": [
      "Overwriting Procfile\n"
     ]
    }
   ],
   "source": [
    "%%writefile Procfile\n",
    "web: gunicorn app:app"
   ]
  },
  {
   "cell_type": "code",
   "execution_count": null,
   "id": "e0d3d61b",
   "metadata": {},
   "outputs": [],
   "source": []
  },
  {
   "cell_type": "code",
   "execution_count": null,
   "id": "be946e98",
   "metadata": {},
   "outputs": [],
   "source": []
  }
 ],
 "metadata": {
  "kernelspec": {
   "display_name": "Python 3 (ipykernel)",
   "language": "python",
   "name": "python3"
  },
  "language_info": {
   "codemirror_mode": {
    "name": "ipython",
    "version": 3
   },
   "file_extension": ".py",
   "mimetype": "text/x-python",
   "name": "python",
   "nbconvert_exporter": "python",
   "pygments_lexer": "ipython3",
   "version": "3.8.10"
  }
 },
 "nbformat": 4,
 "nbformat_minor": 5
}
